{
 "cells": [
  {
   "cell_type": "markdown",
   "id": "2a384b7d-78b3-45c8-b557-c686a1e5819c",
   "metadata": {},
   "source": [
    "# Markdown message boxes\n",
    "\n",
    "You can use message box formats o highlight **Tips**, **Examples**, **Notes**, or **Warnings**. Note, however, that once *inside* the message-box, the usual markdown language does not work and you will need to use HTML to make fonts bold, italic, etc...\n",
    "\n",
    "<div class=\"alert alert-block alert-info\">\n",
    "    <B>Hint:</B>\n",
    "    There is no missing data in the bank data set, so the <CODE>missing='drop'</CODE> argument above is not required.  However, missing data is a fact of life in most data sets. The simplest way to handle it in linear regression is simply to censor (drop) all rows with missing data from the linear regression procedure.  This is what I have done above.\n",
    "</div>\n",
    "\n",
    "<div class=\"alert alert-block alert-success\">\n",
    "    <B>Example:</B>\n",
    "    There is no missing data in the bank data set, so the <CODE>missing='drop'</CODE> argument above is not required.  However, missing data is a fact of life in most data sets. The simplest way to handle it in linear regression is simply to censor (drop) all rows with missing data from the linear regression procedure.  This is what I have done above.\n",
    "</div>  \n",
    "\n",
    "<div class=\"alert alert-block alert-warning\">\n",
    "    <B>Warning:</B>\n",
    "    There is no missing data in the bank data set, so the <CODE>missing='drop'</CODE> argument above is not required.  However, missing data is a fact of life in most data sets. The simplest way to handle it in linear regression is simply to censor (drop) all rows with missing data from the linear regression procedure.  This is what I have done above.\n",
    "</div>\n",
    "    \n",
    "<div class=\"alert alert-block alert-danger\">\n",
    "    <B>Error:</B>\n",
    "    There is no missing data in the bank data set, so the <CODE>missing='drop'</CODE> argument above is not required.  However, missing data is a fact of life in most data sets. The simplest way to handle it in linear regression is simply to censor (drop) all rows with missing data from the linear regression procedure.  This is what I have done above.\n",
    "</div>"
   ]
  },
  {
   "cell_type": "code",
   "execution_count": null,
   "id": "65b2cb2c-8825-4b8e-ad9a-df154debbba7",
   "metadata": {},
   "outputs": [],
   "source": []
  }
 ],
 "metadata": {
  "kernelspec": {
   "display_name": "Python 3 (ipykernel)",
   "language": "python",
   "name": "python3"
  },
  "language_info": {
   "codemirror_mode": {
    "name": "ipython",
    "version": 3
   },
   "file_extension": ".py",
   "mimetype": "text/x-python",
   "name": "python",
   "nbconvert_exporter": "python",
   "pygments_lexer": "ipython3",
   "version": "3.11.7"
  }
 },
 "nbformat": 4,
 "nbformat_minor": 5
}
